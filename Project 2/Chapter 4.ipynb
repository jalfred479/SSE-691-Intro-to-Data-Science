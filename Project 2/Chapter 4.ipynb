{
 "cells": [
  {
   "cell_type": "markdown",
   "metadata": {},
   "source": [
    "# Vectors"
   ]
  },
  {
   "cell_type": "code",
   "execution_count": null,
   "metadata": {
    "collapsed": true
   },
   "outputs": [],
   "source": [
    "def vector_add(v,w):\n",
    "    return [v_i + w_i for v_i, w_i in zip (v,w)]\n",
    "\n",
    "def vector_subtract(v,w):\n",
    "    return [v_i -w_i for v_i, w_i in zip (v,w)]\n",
    "\n",
    "from functools import reduce\n",
    "\n",
    "def vector_sum(vectors):\n",
    "    return reduce(vector_add, vectors)\n",
    "\n",
    "def scalar_multiply(c, v):\n",
    "    return [c*v_i for v_i in v]\n",
    "\n",
    "def vector_mean(vectors):\n",
    "    n = len(vectors)\n",
    "    return scalar_multiply(1/n, vector_sum(vectors))\n",
    "\n",
    "def dot(v, w):\n",
    "    return sum(v_i*w_i for v_i, w_i in zip(v, w))\n",
    "\n",
    "def sum_of_squares(v):\n",
    "    return dot(v, v)\n",
    "\n",
    "import math\n",
    "\n",
    "def magnitude(v):\n",
    "    return math.sqrt(sum_of_squares(v))\n",
    "\n",
    "def squared_distance(v, w):\n",
    "    return sum_of_squares(vector_subtract(v,w))\n",
    "\n",
    "def distance_v1(v, w):\n",
    "    return math.sqrt(squared_distance(v,w))\n",
    "\n",
    "def distance_v2(v, w):\n",
    "    return magnitude(vector_subtract(v,w))"
   ]
  },
  {
   "cell_type": "code",
   "execution_count": null,
   "metadata": {
    "collapsed": false
   },
   "outputs": [],
   "source": [
    "#just using two dimensional vectors. Note this is just to show functionality of things to do with linear algebra.\n",
    "vector_1 = [1, 4]\n",
    "vector_2 = [3, 2]\n",
    "vector_3 = [-1, 3]\n",
    "vector_4 = [2, -2]\n",
    "vector_5 = [-3, -4]\n",
    "vector_list = [vector_1, vector_2, vector_3, vector_4, vector_5]\n",
    "\n",
    "print(\"Vector Addition: {0} + {1} = {2}\".format(vector_1, vector_2, vector_add(vector_1, vector_2)))\n",
    "print(\"Vector Subtraction: {0} - {1} = {2}\".format(vector_3, vector_4, vector_subtract(vector_3, vector_4)))\n",
    "print(\"Vector Sum: \\n Vector List -> {} \\n Answer -> {}\".format(vector_list, vector_sum(vector_list)))\n",
    "print(\"Scalar Multiply: {} * {} =  {}\".format(vector_4, 4, scalar_multiply(4, vector_4)))\n",
    "print(\"Vector Mean: \\n Vector List -> {} \\n Answer -> {}\".format(vector_list, vector_mean(vector_list)))\n",
    "print(\"Dot Product: {} . {} = {}\".format(vector_5, vector_1, dot(vector_5, vector_1)))\n",
    "print(\"Sum of Squares: for {} -> {}\".format(vector_2, sum_of_squares(vector_2)))\n",
    "print(\"Magnitude: for {} -> {}\".format(vector_3, magnitude(vector_3)))\n",
    "print(\"Distance Squared: for {} and {} -> {}\".format(vector_4, vector_5, squared_distance(vector_4, vector_5)))\n",
    "print(\"Distance: for {} and {}\\n Version 1 -> {} \\n Version 2 -> {}\".format(vector_1,\n",
    "                                                                            vector_2,\n",
    "                                                                            distance_v1(vector_1, vector_2),\n",
    "                                                                            distance_v2(vector_1, vector_2)))"
   ]
  },
  {
   "cell_type": "markdown",
   "metadata": {
    "collapsed": true
   },
   "source": [
    "# Matrices"
   ]
  },
  {
   "cell_type": "code",
   "execution_count": null,
   "metadata": {
    "collapsed": true
   },
   "outputs": [],
   "source": [
    "def shape(A):\n",
    "    num_rows = len(A)\n",
    "    num_cols = len(A[0])\n",
    "    return num_rows, num_cols\n",
    "\n",
    "def get_row(A, i):\n",
    "    return A[i]\n",
    "\n",
    "def get_column(A, j):\n",
    "    return [A_i[j] for A_i in A]\n",
    "\n",
    "def make_matrix(num_rows, num_cols, entry_fn):\n",
    "    return [[entry_fn(i, j)\n",
    "            for j in range(num_cols)]\n",
    "           for i in range(num_rows)]\n",
    "\n",
    "def is_diagonal(i, j):\n",
    "    return 1 if i == j else 0"
   ]
  },
  {
   "cell_type": "code",
   "execution_count": null,
   "metadata": {
    "collapsed": false
   },
   "outputs": [],
   "source": [
    "identity_matrix = make_matrix(5,5, is_diagonal)\n",
    "print(identity_matrix)"
   ]
  },
  {
   "cell_type": "code",
   "execution_count": null,
   "metadata": {
    "collapsed": true
   },
   "outputs": [],
   "source": []
  }
 ],
 "metadata": {
  "anaconda-cloud": {},
  "kernelspec": {
   "display_name": "Python [Root]",
   "language": "python",
   "name": "Python [Root]"
  },
  "language_info": {
   "codemirror_mode": {
    "name": "ipython",
    "version": 3
   },
   "file_extension": ".py",
   "mimetype": "text/x-python",
   "name": "python",
   "nbconvert_exporter": "python",
   "pygments_lexer": "ipython3",
   "version": "3.5.2"
  }
 },
 "nbformat": 4,
 "nbformat_minor": 0
}
