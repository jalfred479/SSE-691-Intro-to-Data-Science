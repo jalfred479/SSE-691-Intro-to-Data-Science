{
 "cells": [
  {
   "cell_type": "code",
   "execution_count": 1,
   "metadata": {
    "collapsed": false
   },
   "outputs": [],
   "source": [
    "import random\n",
    "import scipy.stats as sp\n",
    "import matplotlib.pyplot as plt\n",
    "import numpy as np\n",
    "import math\n",
    "from collections import Counter"
   ]
  },
  {
   "cell_type": "code",
   "execution_count": 2,
   "metadata": {
    "collapsed": false
   },
   "outputs": [
    {
     "name": "stdout",
     "output_type": "stream",
     "text": [
      "P(both | older) 0.5007089325501317\n",
      "P(both | either) 0.3311897106109325\n"
     ]
    }
   ],
   "source": [
    "def random_kid():\n",
    "    return random.choice([\"boy\", \"girl\"])\n",
    "\n",
    "both_girls = 0\n",
    "either_girl = 0\n",
    "older_girl = 0\n",
    "\n",
    "random.seed(0)\n",
    "for _ in range(10000):\n",
    "    younger = random_kid()\n",
    "    older = random_kid()\n",
    "    if older == \"girl\":\n",
    "        older_girl += 1\n",
    "    if older == \"girl\" and younger == \"girl\":\n",
    "        both_girls += 1\n",
    "    if older == \"girl\" or younger == \"girl\":\n",
    "        either_girl += 1\n",
    "        \n",
    "print(\"P(both | older)\", both_girls/older_girl)\n",
    "print(\"P(both | either)\", both_girls/either_girl)"
   ]
  },
  {
   "cell_type": "markdown",
   "metadata": {},
   "source": [
    "Scipy.stats does not seem to have a random function."
   ]
  },
  {
   "cell_type": "code",
   "execution_count": 3,
   "metadata": {
    "collapsed": true
   },
   "outputs": [],
   "source": [
    "def uniform_pdf(x):\n",
    "    return 1 if x >= 0 and x < 1 else 0\n",
    "\n",
    "def uniform_cdf(x):\n",
    "    if x < 0: return 0\n",
    "    elif x < 1: return x\n",
    "    else: return 1\n"
   ]
  },
  {
   "cell_type": "code",
   "execution_count": 4,
   "metadata": {
    "collapsed": false
   },
   "outputs": [],
   "source": [
    "fig= plt.figure()\n",
    "rv = sp.uniform()\n",
    "x = list(np.arange(-.2,1.2, .01))\n",
    "#plt.axes([-.5, 1.5, 0, 1.5])\n",
    "plt.plot(x, rv.pdf(x))\n",
    "plt.title(\"PDF\")\n",
    "plt.ylim(ymax=1.1, ymin=-.1)\n",
    "plt.show()\n",
    "plt.title(\"CDF\")\n",
    "plt.ylim(ymax=1.1, ymin=-.1)\n",
    "plt.plot(x, rv.cdf(x))\n",
    "plt.show()"
   ]
  },
  {
   "cell_type": "code",
   "execution_count": 5,
   "metadata": {
    "collapsed": false
   },
   "outputs": [],
   "source": [
    "def normal_pdf(x, mu=0, sigma=1):\n",
    "    sqrt_two_pi = math.sqrt(2 * math.pi)\n",
    "    return(math.exp(-(x-mu) ** 2/2/sigma**2)/(sqrt_two_pi * sigma))\n",
    "\n",
    "xs = [x /10.0 for x in range(-50, 50)]\n",
    "plt.plot(xs, [normal_pdf(x, sigma=1) for x in xs], '-', label=\"mu=0,sigma=1\")\n",
    "plt.plot(xs, [normal_pdf(x, sigma=2) for x in xs], '-', label=\"mu=0,sigma=2\")\n",
    "plt.plot(xs, [normal_pdf(x, sigma=0.5) for x in xs], '-', label=\"mu=0,sigma=0.5\")\n",
    "plt.plot(xs, [normal_pdf(x, mu=-1) for x in xs], '-', label=\"mu=-1,sigma=1\")\n",
    "plt.legend()\n",
    "plt.title(\"Various Normal PDFs without scipy\")\n",
    "plt.show()"
   ]
  },
  {
   "cell_type": "code",
   "execution_count": 6,
   "metadata": {
    "collapsed": false
   },
   "outputs": [],
   "source": [
    "\n",
    "plt.plot(xs, sp.norm().pdf(xs),'-', label=\"mu=0,sigma=1\")\n",
    "plt.plot(xs, sp.norm(0,2).pdf(xs),'-', label=\"mu=0,sigma=2\")\n",
    "plt.plot(xs, sp.norm(0, .5).pdf(xs),'-', label=\"mu=0,sigma=.5\")\n",
    "plt.plot(xs, sp.norm(-1, 1).pdf(xs),'-', label=\"mu=-1,sigma=1\")\n",
    "plt.title(\"Norm PDF with SciPy\")\n",
    "plt.legend()\n",
    "plt.show()"
   ]
  },
  {
   "cell_type": "code",
   "execution_count": 7,
   "metadata": {
    "collapsed": false
   },
   "outputs": [],
   "source": [
    "def normal_cdf(x, mu=0, sigma=1):\n",
    "    return(1 + math.erf((x-mu)/math.sqrt(2)/sigma))/2\n",
    "\n",
    "xs = [x / 10.0 for x in range(-50, 50)]\n",
    "plt.plot(xs, [normal_cdf(x, sigma=1) for x in xs],'-', label='mu=0, sigma=1')\n",
    "plt.plot(xs, [normal_cdf(x, sigma=2) for x in xs],'-', label='mu=0, sigma=2')\n",
    "plt.plot(xs, [normal_cdf(x, sigma=0.5) for x in xs],'-', label='mu=0, sigma=0.5')\n",
    "plt.plot(xs, [normal_cdf(x, mu=-1) for x in xs],'-', label='mu=-1, sigma=1')\n",
    "plt.legend(loc=4)\n",
    "plt.title(\"Various Normal cdfs without SciPy\")\n",
    "plt.show()"
   ]
  },
  {
   "cell_type": "code",
   "execution_count": 8,
   "metadata": {
    "collapsed": false
   },
   "outputs": [],
   "source": [
    "plt.plot(xs, sp.norm().cdf(xs),'-', label=\"mu=0,sigma=1\")\n",
    "plt.plot(xs, sp.norm(0,2).cdf(xs),'-', label=\"mu=0,sigma=2\")\n",
    "plt.plot(xs, sp.norm(0, .5).cdf(xs),'-', label=\"mu=0,sigma=.5\")\n",
    "plt.plot(xs, sp.norm(-1, 1).cdf(xs),'-', label=\"mu=-1,sigma=1\")\n",
    "plt.title(\"Norm CDF with SciPy\")\n",
    "plt.legend()\n",
    "plt.show()"
   ]
  },
  {
   "cell_type": "code",
   "execution_count": 9,
   "metadata": {
    "collapsed": false
   },
   "outputs": [
    {
     "name": "stdout",
     "output_type": "stream",
     "text": [
      "0.5243968963623047\n"
     ]
    }
   ],
   "source": [
    "def inverse_normal_cdf(p, mu=0, sigma=1, tolerance=0.00001):\n",
    "    if mu != 0 or sigma != 1:\n",
    "        return mu + sigma*inverse_normal_cdf(p, tolerance=tolerance)\n",
    "    \n",
    "    low_z, low_p = -10.0, 0\n",
    "    hi_z, hi_p = 10.0, 1\n",
    "    while hi_z - low_z > tolerance:\n",
    "        mid_z = (low_z + hi_z) / 2\n",
    "        mid_p = normal_cdf(mid_z)\n",
    "        if mid_p < p:\n",
    "            low_z, low_p = mid_z, mid_p\n",
    "        elif mid_p > p:\n",
    "            hi_z, hi_p = mid_z, mid_p\n",
    "        else:\n",
    "            break\n",
    "\n",
    "    return mid_z\n",
    "\n",
    "print(inverse_normal_cdf(.7))"
   ]
  },
  {
   "cell_type": "code",
   "execution_count": 10,
   "metadata": {
    "collapsed": false
   },
   "outputs": [
    {
     "name": "stdout",
     "output_type": "stream",
     "text": [
      "0.524400512708\n"
     ]
    }
   ],
   "source": [
    "print(sp.norm().ppf(.7))"
   ]
  },
  {
   "cell_type": "code",
   "execution_count": 11,
   "metadata": {
    "collapsed": false
   },
   "outputs": [
    {
     "name": "stdout",
     "output_type": "stream",
     "text": [
      "1\n",
      "12\n"
     ]
    }
   ],
   "source": [
    "def bernoulli_trial(p):\n",
    "    return 1 if random.random() < p  else 0\n",
    "\n",
    "def binomial(n, p):\n",
    "    return sum(bernoulli_trial(p) for _ in range(n))\n",
    "\n",
    "print(bernoulli_trial(.4))\n",
    "print(binomial(20, .4))"
   ]
  },
  {
   "cell_type": "code",
   "execution_count": 12,
   "metadata": {
    "collapsed": false
   },
   "outputs": [
    {
     "name": "stdout",
     "output_type": "stream",
     "text": [
      "0\n",
      "9\n"
     ]
    }
   ],
   "source": [
    "print(sp.bernoulli(.4).rvs())\n",
    "print(sp.binom(20, .4).rvs())"
   ]
  },
  {
   "cell_type": "code",
   "execution_count": 13,
   "metadata": {
    "collapsed": false
   },
   "outputs": [],
   "source": [
    "def make_hist(p, n, num_points):\n",
    "\n",
    "    data = [binomial(n, p) for _ in range(num_points)]\n",
    "\n",
    "    histogram = Counter(data)\n",
    "    plt.bar([x - 0.4 for x in histogram.keys()],\n",
    "            [v / num_points for v in histogram.values()],\n",
    "            0.8,\n",
    "            color='0.75')\n",
    "\n",
    "    mu = p * n\n",
    "    sigma = math.sqrt(n * p * (1 - p))\n",
    "\n",
    "    xs = range(min(data), max(data) + 1)\n",
    "    ys = [normal_cdf(i + 0.5, mu, sigma) - normal_cdf(i - 0.5, mu, sigma) for i in xs]\n",
    "    plt.plot(xs,ys)\n",
    "    plt.title(\"Binom hist without SciPy\")\n",
    "    plt.show()\n",
    "\n",
    "make_hist(0.75, 100, 10000)"
   ]
  },
  {
   "cell_type": "code",
   "execution_count": 14,
   "metadata": {
    "collapsed": false
   },
   "outputs": [],
   "source": [
    "def make_hist_scipy(p, n, num_points):\n",
    "\n",
    "    data = sp.binom(n, p).rvs(num_points)\n",
    "\n",
    "    histogram = Counter(data)\n",
    "    plt.bar([x - 0.4 for x in histogram.keys()],\n",
    "            [v / num_points for v in histogram.values()],\n",
    "            0.8,\n",
    "            color='0.75')\n",
    "\n",
    "    mu = p * n\n",
    "    sigma = math.sqrt(n * p * (1 - p))\n",
    "\n",
    "    xs = range(min(data), max(data) + 1)\n",
    "    ys = [sp.norm(mu,sigma).cdf(i+.5) - sp.norm(mu,sigma).cdf(i -.5) for i in xs]\n",
    "    plt.plot(xs,ys)\n",
    "    plt.title(\"Binom Hist with SciPy\")\n",
    "    plt.show()\n",
    "\n",
    "make_hist_scipy(.75, 100, 10000)"
   ]
  },
  {
   "cell_type": "code",
   "execution_count": null,
   "metadata": {
    "collapsed": true
   },
   "outputs": [],
   "source": []
  }
 ],
 "metadata": {
  "anaconda-cloud": {},
  "kernelspec": {
   "display_name": "Python [Root]",
   "language": "python",
   "name": "Python [Root]"
  },
  "language_info": {
   "codemirror_mode": {
    "name": "ipython",
    "version": 3
   },
   "file_extension": ".py",
   "mimetype": "text/x-python",
   "name": "python",
   "nbconvert_exporter": "python",
   "pygments_lexer": "ipython3",
   "version": "3.5.2"
  }
 },
 "nbformat": 4,
 "nbformat_minor": 0
}
