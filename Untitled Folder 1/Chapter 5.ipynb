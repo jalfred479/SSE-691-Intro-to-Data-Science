{
 "cells": [
  {
   "cell_type": "code",
   "execution_count": 30,
   "metadata": {
    "collapsed": false
   },
   "outputs": [],
   "source": [
    "import matplotlib.pyplot as plt\n",
    "import matplotlib\n",
    "%matplotlib inline\n",
    "import pandas as pd\n",
    "import numpy as np\n",
    "from collections import Counter\n",
    "import py\n",
    "import random as rand\n",
    "import math\n",
    "num_friends = [int(abs(rand.gauss(0, 30))) for _ in range(200)]"
   ]
  },
  {
   "cell_type": "code",
   "execution_count": 31,
   "metadata": {
    "collapsed": false
   },
   "outputs": [
    {
     "data": {
      "image/png": "[encoded data removed]",
      "text/plain": [
       "<matplotlib.figure.Figure at 0x1a5a8a31c18>"
      ]
     },
     "metadata": {},
     "output_type": "display_data"
    }
   ],
   "source": [
    "friends_counts = Counter(num_friends)\n",
    "xs = range(101)\n",
    "ys = [friends_counts[x] for x in xs]\n",
    "plt.bar(xs, ys)\n",
    "plt.axis([0, 101, 0, 25])\n",
    "plt.title(\"Histogram of Friend Counts\")\n",
    "plt.xlabel(\"# of friends\")\n",
    "plt.ylabel(\"# of people\")\n",
    "plt.show()"
   ]
  },
  {
   "cell_type": "code",
   "execution_count": 32,
   "metadata": {
    "collapsed": false
   },
   "outputs": [
    {
     "data": {
      "text/plain": [
       "<matplotlib.axes._subplots.AxesSubplot at 0x1a5a83287f0>"
      ]
     },
     "execution_count": 32,
     "metadata": {},
     "output_type": "execute_result"
    },
    {
     "data": {
      "image/png": "[encoded data removed]",
      "text/plain": [
       "<matplotlib.figure.Figure at 0x1a5a4cd9048>"
      ]
     },
     "metadata": {},
     "output_type": "display_data"
    }
   ],
   "source": [
    "pd_num_friends = pd.Series(num_friends)\n",
    "pd_xs = pd_num_friends.value_counts(sort=True,bins=range(101)).sort_index()\n",
    "plt.figure()\n",
    "pd_xs.plot.bar()"
   ]
  },
  {
   "cell_type": "code",
   "execution_count": 33,
   "metadata": {
    "collapsed": false
   },
   "outputs": [
    {
     "name": "stdout",
     "output_type": "stream",
     "text": [
      "Num points: 200\n",
      "Largest value: 91\n",
      "Smallest value: 0\n",
      "Sorted values: [0, 0, 0, 0, 1, 1, 1, 1, 1, 1, 1, 1, 1, 1, 1, 1, 2, 2, 2, 2, 2, 3, 3, 3, 3, 3, 3, 3, 3, 3, 3, 4, 4, 4, 4, 5, 5, 5, 5, 5, 6, 6, 6, 6, 7, 7, 7, 7, 7, 7, 8, 8, 8, 8, 9, 9, 10, 10, 10, 10, 10, 12, 12, 12, 12, 12, 13, 13, 13, 13, 13, 13, 13, 13, 14, 15, 15, 15, 16, 16, 16, 16, 16, 16, 16, 16, 16, 17, 17, 17, 17, 17, 17, 18, 18, 18, 18, 18, 19, 19, 19, 19, 19, 19, 19, 20, 20, 20, 20, 20, 20, 21, 21, 21, 22, 22, 22, 22, 23, 23, 24, 24, 25, 25, 25, 25, 25, 25, 26, 26, 26, 26, 27, 28, 28, 28, 28, 28, 28, 29, 30, 31, 31, 31, 31, 31, 31, 32, 32, 32, 32, 33, 34, 34, 34, 35, 36, 36, 36, 36, 36, 37, 37, 38, 38, 38, 38, 39, 39, 40, 40, 40, 41, 41, 41, 42, 42, 42, 43, 43, 43, 44, 45, 46, 47, 47, 48, 50, 51, 53, 56, 57, 59, 59, 60, 60, 61, 63, 83, 91]\n",
      "Second smallest: 0\n",
      "Second largest: 83\n"
     ]
    }
   ],
   "source": [
    "num_points = len(num_friends)\n",
    "largest_value = max(num_friends)\n",
    "smallest_value = min(num_friends)\n",
    "sorted_values = sorted(num_friends)\n",
    "second_smallest_value = sorted_values[1]\n",
    "second_largest_value = sorted_values[-2]\n",
    "print(\"Num points: {}\".format(num_points))\n",
    "print(\"Largest value: {}\".format(largest_value))\n",
    "print(\"Smallest value: {}\".format(smallest_value))\n",
    "print(\"Sorted values: {}\".format(sorted_values))\n",
    "print(\"Second smallest: {}\".format(second_smallest_value))\n",
    "print(\"Second largest: {}\".format(second_largest_value))"
   ]
  },
  {
   "cell_type": "code",
   "execution_count": 34,
   "metadata": {
    "collapsed": false
   },
   "outputs": [
    {
     "name": "stdout",
     "output_type": "stream",
     "text": [
      "Num points: 200\n",
      "Largest value: 91\n",
      "Smallest value: 0\n",
      "Sorted values: 110     0\n",
      "41      0\n",
      "57      0\n",
      "68      0\n",
      "91      1\n",
      "119     1\n",
      "12      1\n",
      "90      1\n",
      "10      1\n",
      "120     1\n",
      "94      1\n",
      "83      1\n",
      "28      1\n",
      "76      1\n",
      "190     1\n",
      "82      1\n",
      "36      2\n",
      "145     2\n",
      "181     2\n",
      "6       2\n",
      "84      2\n",
      "114     3\n",
      "152     3\n",
      "189     3\n",
      "155     3\n",
      "27      3\n",
      "107     3\n",
      "130     3\n",
      "73      3\n",
      "58      3\n",
      "       ..\n",
      "172    40\n",
      "34     40\n",
      "2      41\n",
      "46     41\n",
      "37     41\n",
      "186    42\n",
      "151    42\n",
      "122    42\n",
      "178    43\n",
      "192    43\n",
      "171    43\n",
      "179    44\n",
      "49     45\n",
      "159    46\n",
      "81     47\n",
      "166    47\n",
      "104    48\n",
      "105    50\n",
      "21     51\n",
      "108    53\n",
      "134    56\n",
      "131    57\n",
      "31     59\n",
      "23     59\n",
      "16     60\n",
      "39     60\n",
      "44     61\n",
      "137    63\n",
      "29     83\n",
      "188    91\n",
      "dtype: int64\n"
     ]
    }
   ],
   "source": [
    "pd_num_points = pd_num_friends.size\n",
    "pd_largest_value = pd_num_friends.max()\n",
    "pd_smallest_value = pd_num_friends.min()\n",
    "pd_sorted_values = pd_num_friends.sort_values()\n",
    "print(\"Num points: {}\".format(pd_num_points))\n",
    "print(\"Largest value: {}\".format(pd_largest_value))\n",
    "print(\"Smallest value: {}\".format(pd_smallest_value))\n",
    "print(\"Sorted values: {}\".format(pd_sorted_values))"
   ]
  },
  {
   "cell_type": "code",
   "execution_count": 35,
   "metadata": {
    "collapsed": false
   },
   "outputs": [
    {
     "name": "stdout",
     "output_type": "stream",
     "text": [
      "21.85\n"
     ]
    }
   ],
   "source": [
    "def mean(x):\n",
    "    return sum(x)/len(x)\n",
    "\n",
    "print(mean(num_friends))"
   ]
  },
  {
   "cell_type": "code",
   "execution_count": 36,
   "metadata": {
    "collapsed": false
   },
   "outputs": [
    {
     "name": "stdout",
     "output_type": "stream",
     "text": [
      "21.85\n"
     ]
    }
   ],
   "source": [
    "print(pd_num_friends.mean())"
   ]
  },
  {
   "cell_type": "code",
   "execution_count": 37,
   "metadata": {
    "collapsed": false
   },
   "outputs": [
    {
     "name": "stdout",
     "output_type": "stream",
     "text": [
      "19.0\n"
     ]
    }
   ],
   "source": [
    "def median(v):\n",
    "    n = len(v)\n",
    "    sorted_v = sorted(v)\n",
    "    midpoint = n // 2\n",
    "    if n%2 == 1:\n",
    "        return(sorted_v[midpoint])\n",
    "    else:\n",
    "        lo = midpoint - 1\n",
    "        hi = midpoint\n",
    "        return (sorted_v[lo] + sorted_v[hi])/2\n",
    "\n",
    "print(median(num_friends))"
   ]
  },
  {
   "cell_type": "code",
   "execution_count": 38,
   "metadata": {
    "collapsed": false
   },
   "outputs": [
    {
     "name": "stdout",
     "output_type": "stream",
     "text": [
      "19.0\n"
     ]
    }
   ],
   "source": [
    "print(pd_num_friends.median())"
   ]
  },
  {
   "cell_type": "code",
   "execution_count": 39,
   "metadata": {
    "collapsed": false
   },
   "outputs": [
    {
     "name": "stdout",
     "output_type": "stream",
     "text": [
      "2\n",
      "8\n",
      "32\n",
      "43\n"
     ]
    }
   ],
   "source": [
    "def quantile(x, p):\n",
    "    p_index = int(p*len(x))\n",
    "    return sorted(x)[p_index]\n",
    "\n",
    "print(quantile(num_friends, .10))\n",
    "print(quantile(num_friends, .25))\n",
    "print(quantile(num_friends, .75))\n",
    "print(quantile(num_friends, .90))"
   ]
  },
  {
   "cell_type": "code",
   "execution_count": 40,
   "metadata": {
    "collapsed": false
   },
   "outputs": [
    {
     "name": "stdout",
     "output_type": "stream",
     "text": [
      "2\n",
      "8\n",
      "32\n",
      "43\n"
     ]
    }
   ],
   "source": [
    "print(pd_num_friends.quantile(.10, 'nearest'))\n",
    "print(pd_num_friends.quantile(.25, 'nearest'))\n",
    "print(pd_num_friends.quantile(.75, 'nearest'))\n",
    "print(pd_num_friends.quantile(.90, 'nearest'))"
   ]
  },
  {
   "cell_type": "code",
   "execution_count": 41,
   "metadata": {
    "collapsed": false
   },
   "outputs": [
    {
     "name": "stdout",
     "output_type": "stream",
     "text": [
      "[1]\n"
     ]
    }
   ],
   "source": [
    "def mode(x):\n",
    "    counts = Counter(x)\n",
    "    max_count = (max(counts.values()))\n",
    "    return [x_i for x_i, count in counts.items() if count == max_count]\n",
    "\n",
    "print(mode(num_friends))"
   ]
  },
  {
   "cell_type": "code",
   "execution_count": 42,
   "metadata": {
    "collapsed": false
   },
   "outputs": [
    {
     "name": "stdout",
     "output_type": "stream",
     "text": [
      "0    1\n",
      "dtype: int64\n"
     ]
    }
   ],
   "source": [
    "print(pd_num_friends.mode())"
   ]
  },
  {
   "cell_type": "code",
   "execution_count": 43,
   "metadata": {
    "collapsed": false
   },
   "outputs": [
    {
     "name": "stdout",
     "output_type": "stream",
     "text": [
      "91\n"
     ]
    }
   ],
   "source": [
    "def data_range(x):\n",
    "    return max(x) - min(x)\n",
    "\n",
    "print(data_range(num_friends))"
   ]
  },
  {
   "cell_type": "code",
   "execution_count": 44,
   "metadata": {
    "collapsed": false
   },
   "outputs": [
    {
     "name": "stdout",
     "output_type": "stream",
     "text": [
      "91\n"
     ]
    }
   ],
   "source": [
    "print(pd_num_friends.ptp())"
   ]
  },
  {
   "cell_type": "code",
   "execution_count": 45,
   "metadata": {
    "collapsed": false
   },
   "outputs": [
    {
     "name": "stdout",
     "output_type": "stream",
     "text": [
      "287.8668341708545\n"
     ]
    }
   ],
   "source": [
    "def dot(v, w):\n",
    "    return sum(v_i*w_i for v_i, w_i in zip(v, w))\n",
    "\n",
    "def sum_of_squares(v):\n",
    "    return dot(v, v)\n",
    "\n",
    "def de_mean(x):\n",
    "    x_bar = mean(x)\n",
    "    return [x_i - x_bar for x_i in x]\n",
    "\n",
    "def variance(x):\n",
    "    n = len(x)\n",
    "    deviations = de_mean(x)\n",
    "    return sum_of_squares(deviations)/(n-1)\n",
    "\n",
    "print(variance(num_friends))"
   ]
  },
  {
   "cell_type": "code",
   "execution_count": 46,
   "metadata": {
    "collapsed": false
   },
   "outputs": [
    {
     "name": "stdout",
     "output_type": "stream",
     "text": [
      "287.8668341708545\n"
     ]
    }
   ],
   "source": [
    "print(pd_num_friends.var())"
   ]
  },
  {
   "cell_type": "code",
   "execution_count": 47,
   "metadata": {
    "collapsed": false
   },
   "outputs": [
    {
     "name": "stdout",
     "output_type": "stream",
     "text": [
      "16.966638858974232\n"
     ]
    }
   ],
   "source": [
    "def standard_deviation(x):\n",
    "    return math.sqrt(variance(x))\n",
    "\n",
    "print(standard_deviation(num_friends))"
   ]
  },
  {
   "cell_type": "code",
   "execution_count": 48,
   "metadata": {
    "collapsed": false
   },
   "outputs": [
    {
     "name": "stdout",
     "output_type": "stream",
     "text": [
      "16.966638858974232\n"
     ]
    }
   ],
   "source": [
    "print(pd_num_friends.std())"
   ]
  },
  {
   "cell_type": "code",
   "execution_count": null,
   "metadata": {
    "collapsed": true
   },
   "outputs": [],
   "source": []
  }
 ],
 "metadata": {
  "anaconda-cloud": {},
  "kernelspec": {
   "display_name": "Python [Root]",
   "language": "python",
   "name": "Python [Root]"
  },
  "language_info": {
   "codemirror_mode": {
    "name": "ipython",
    "version": 3
   },
   "file_extension": ".py",
   "mimetype": "text/x-python",
   "name": "python",
   "nbconvert_exporter": "python",
   "pygments_lexer": "ipython3",
   "version": "3.5.2"
  }
 },
 "nbformat": 4,
 "nbformat_minor": 0
}
